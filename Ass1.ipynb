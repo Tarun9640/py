{
  "nbformat": 4,
  "nbformat_minor": 0,
  "metadata": {
    "colab": {
      "name": "Ass1.ipynb",
      "provenance": [],
      "collapsed_sections": [],
      "authorship_tag": "ABX9TyNdRsjguqr/8E/HT05znyi1",
      "include_colab_link": true
    },
    "kernelspec": {
      "name": "python3",
      "display_name": "Python 3"
    }
  },
  "cells": [
    {
      "cell_type": "markdown",
      "metadata": {
        "id": "view-in-github",
        "colab_type": "text"
      },
      "source": [
        "<a href=\"https://colab.research.google.com/github/Tarun9640/py/blob/master/Ass1.ipynb\" target=\"_parent\"><img src=\"https://colab.research.google.com/assets/colab-badge.svg\" alt=\"Open In Colab\"/></a>"
      ]
    },
    {
      "cell_type": "code",
      "metadata": {
        "id": "jNjX0KsBB72e"
      },
      "source": [
        ""
      ],
      "execution_count": null,
      "outputs": []
    },
    {
      "cell_type": "code",
      "metadata": {
        "id": "RRlMXGH9omB8"
      },
      "source": [
        "import numpy as np"
      ],
      "execution_count": null,
      "outputs": []
    },
    {
      "cell_type": "code",
      "metadata": {
        "id": "6wW5mvwswSaT"
      },
      "source": [
        "x=np.array([\r\n",
        "            [1,2,3]\r\n",
        "            ,[4,5,6]\r\n",
        "            ,[7,8,9]\r\n",
        "])"
      ],
      "execution_count": null,
      "outputs": []
    },
    {
      "cell_type": "code",
      "metadata": {
        "id": "K2-MZKeQwk34"
      },
      "source": [
        "y=np.array([0,1,1])"
      ],
      "execution_count": null,
      "outputs": []
    },
    {
      "cell_type": "code",
      "metadata": {
        "id": "wmEbF6iJwz9z"
      },
      "source": [
        "w=[0.5,0.5,0.5]  #weights\r\n",
        "threshold=10\r\n",
        "learning_rate=0.1\r\n",
        "epoch=5  #learningtime"
      ],
      "execution_count": null,
      "outputs": []
    },
    {
      "cell_type": "code",
      "metadata": {
        "colab": {
          "base_uri": "https://localhost:8080/"
        },
        "id": "StJuvwOwxPDw",
        "outputId": "1c37debd-9e35-4a28-cfb4-88dc1184877b"
      },
      "source": [
        "for k in range(0,epoch):\r\n",
        "  print(\"epoch\",k)\r\n",
        "  for i in range(0,x.shape[0]):\r\n",
        "    ins=x[i]\r\n",
        "    actual=y[i]\r\n",
        "    x0=ins[0]\r\n",
        "    x1=ins[1]\r\n",
        "    x2=ins[2]\r\n",
        "    target_value=x0*w[0]+x1*w[1]+x2*w[2]\r\n",
        "\r\n",
        "    if target_value > threshold:\r\n",
        "      flag=1\r\n",
        "    else:\r\n",
        "      flag=0\r\n",
        "  \r\n",
        "    delta=actual-flag\r\n",
        "    print(\"prediction: \",flag,\"and actual is\",actual,\"error:\",delta)\r\n",
        "\r\n",
        "    #updatingweights\r\n",
        "    w[0]=w[0]+delta*learning_rate\r\n",
        "    w[1]=w[1]+delta*learning_rate\r\n",
        "    w[2]=w[2]+delta*learning_rate"
      ],
      "execution_count": null,
      "outputs": [
        {
          "output_type": "stream",
          "text": [
            "epoch 0\n",
            "prediction:  0 and actual is 0 error: 0\n",
            "prediction:  0 and actual is 1 error: 1\n",
            "prediction:  1 and actual is 1 error: 0\n",
            "prediction:  1 and actual is 1 error: 0\n",
            "epoch 1\n",
            "prediction:  0 and actual is 0 error: 0\n",
            "prediction:  0 and actual is 1 error: 1\n",
            "prediction:  1 and actual is 1 error: 0\n",
            "prediction:  1 and actual is 1 error: 0\n",
            "epoch 2\n",
            "prediction:  0 and actual is 0 error: 0\n",
            "prediction:  1 and actual is 1 error: 0\n",
            "prediction:  1 and actual is 1 error: 0\n",
            "prediction:  1 and actual is 1 error: 0\n",
            "epoch 3\n",
            "prediction:  0 and actual is 0 error: 0\n",
            "prediction:  1 and actual is 1 error: 0\n",
            "prediction:  1 and actual is 1 error: 0\n",
            "prediction:  1 and actual is 1 error: 0\n",
            "epoch 4\n",
            "prediction:  0 and actual is 0 error: 0\n",
            "prediction:  1 and actual is 1 error: 0\n",
            "prediction:  1 and actual is 1 error: 0\n",
            "prediction:  1 and actual is 1 error: 0\n"
          ],
          "name": "stdout"
        }
      ]
    },
    {
      "cell_type": "code",
      "metadata": {
        "id": "_2v8A4cmxawC"
      },
      "source": [
        ""
      ],
      "execution_count": null,
      "outputs": []
    }
  ]
}